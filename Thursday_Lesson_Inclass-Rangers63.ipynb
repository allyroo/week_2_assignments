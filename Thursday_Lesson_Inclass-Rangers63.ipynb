{
 "cells": [
  {
   "cell_type": "markdown",
   "metadata": {},
   "source": [
    "# Object-Oriented-Programming (OOP)"
   ]
  },
  {
   "cell_type": "markdown",
   "metadata": {},
   "source": [
    "## Tasks Today:\n",
    "\n",
    "   \n",
    "\n",
    "1) <b>Creating a Class (Initializing/Declaring)</b> <br>\n",
    "2) <b>Using a Class (Instantiating)</b> <br>\n",
    " &nbsp;&nbsp;&nbsp;&nbsp; a) Creating One Instance <br>\n",
    " &nbsp;&nbsp;&nbsp;&nbsp; b) Creating Multiple Instances <br>\n",
    " &nbsp;&nbsp;&nbsp;&nbsp; c) In-Class Exercise #1 - Create a Class 'Car' and instantiate three different makes of cars <br>\n",
    "3) <b>The \\__init\\__() Method</b> <br>\n",
    " &nbsp;&nbsp;&nbsp;&nbsp; a) The 'self' Attribute <br>\n",
    "4) <b>Class Attributes</b> <br>\n",
    " &nbsp;&nbsp;&nbsp;&nbsp; a) Initializing Attributes <br>\n",
    " &nbsp;&nbsp;&nbsp;&nbsp; b) Setting an Attribute Outside of the \\__init\\__() Method <br>\n",
    " &nbsp;&nbsp;&nbsp;&nbsp; c) Setting Defaults for Attributes <br>\n",
    " &nbsp;&nbsp;&nbsp;&nbsp; d) Accessing Class Attributes <br>\n",
    " &nbsp;&nbsp;&nbsp;&nbsp; e) Changing Class Attributes <br>\n",
    " &nbsp;&nbsp;&nbsp;&nbsp; f) In-Class Exercise #2 - Add a color and wheels attribute to your 'Car' class <br>\n",
    "5) <b>Class Methods</b> <br>\n",
    " &nbsp;&nbsp;&nbsp;&nbsp; a) Creating <br>\n",
    " &nbsp;&nbsp;&nbsp;&nbsp; b) Calling <br>\n",
    " &nbsp;&nbsp;&nbsp;&nbsp; c) Modifying an Attribute's Value Through a Method <br>\n",
    " &nbsp;&nbsp;&nbsp;&nbsp; d) Incrementing an Attribute's Value Through a Method <br>\n",
    " &nbsp;&nbsp;&nbsp;&nbsp; e) In-Class Exercise #3 - Add a method that prints the cars color and wheel number, then call them <br>\n",
    "6) <b>Inheritance</b> <br>\n",
    " &nbsp;&nbsp;&nbsp;&nbsp; a) Syntax for Inheriting from a Parent Class <br>\n",
    " &nbsp;&nbsp;&nbsp;&nbsp; b) The \\__init\\__() Method for a Child Class (super()) <br>\n",
    " &nbsp;&nbsp;&nbsp;&nbsp; c) Defining Attributes and Methods for the Child Class <br>\n",
    " &nbsp;&nbsp;&nbsp;&nbsp; d) Method Overriding <br>\n",
    " &nbsp;&nbsp;&nbsp;&nbsp; e) In-Class Exercise #4 - Create a class 'Ford' that inherits from 'Car' class and initialize it as a Blue Ford Explorer with 4 wheels using the super() method <br>\n",
    "7) <b>Classes as Attributes</b> <br>\n",
    "8) <b>Exercises</b> <br>\n",
    " &nbsp;&nbsp;&nbsp;&nbsp; a) Exercise #1 - Turn the shopping cart program from yesterday into an object-oriented program <br>"
   ]
  },
  {
   "cell_type": "markdown",
   "metadata": {},
   "source": [
    "## Creating a Class (Initializing/Declaring)\n",
    "<p>When creating a class, function, or even a variable you are initializing that object. Initializing and Declaring occur at the same time in Python, whereas in lower level languages you have to declare an object before initializing it. This is the first step in the process of using a class.</p>"
   ]
  },
  {
   "cell_type": "code",
   "execution_count": 4,
   "metadata": {},
   "outputs": [],
   "source": [
    "#when initializing class, make sure class has a capital letter in the front\n",
    "class Car():\n",
    "    wheels = 4\n",
    "    color = 'blue'"
   ]
  },
  {
   "cell_type": "markdown",
   "metadata": {},
   "source": [
    "## Using a Class (Instantiating)\n",
    "<p>The process of creating a class is called <i>Instantiating</i>. Each time you create a variable of that type of class, it is referred to as an <i>Instance</i> of that class. This is the second step in the process of using a class.</p>"
   ]
  },
  {
   "cell_type": "markdown",
   "metadata": {},
   "source": [
    "##### Creating One Instance"
   ]
  },
  {
   "cell_type": "code",
   "execution_count": null,
   "metadata": {},
   "outputs": [],
   "source": [
    "ford = Car()\n",
    "print(ford.color)"
   ]
  },
  {
   "cell_type": "markdown",
   "metadata": {},
   "source": [
    "##### Creating Multiple Instances"
   ]
  },
  {
   "cell_type": "code",
   "execution_count": 3,
   "metadata": {},
   "outputs": [
    {
     "ename": "NameError",
     "evalue": "name 'Car' is not defined",
     "output_type": "error",
     "traceback": [
      "\u001b[0;31m---------------------------------------------------------------------------\u001b[0m",
      "\u001b[0;31mNameError\u001b[0m                                 Traceback (most recent call last)",
      "\u001b[0;32m<ipython-input-3-3ac85c10d32f>\u001b[0m in \u001b[0;36m<module>\u001b[0;34m\u001b[0m\n\u001b[0;32m----> 1\u001b[0;31m \u001b[0mhonda\u001b[0m \u001b[0;34m=\u001b[0m \u001b[0mCar\u001b[0m\u001b[0;34m(\u001b[0m\u001b[0;34m)\u001b[0m\u001b[0;34m\u001b[0m\u001b[0;34m\u001b[0m\u001b[0m\n\u001b[0m\u001b[1;32m      2\u001b[0m \u001b[0mchevy\u001b[0m \u001b[0;34m=\u001b[0m \u001b[0mCar\u001b[0m\u001b[0;34m(\u001b[0m\u001b[0;34m)\u001b[0m\u001b[0;34m\u001b[0m\u001b[0;34m\u001b[0m\u001b[0m\n\u001b[1;32m      3\u001b[0m \u001b[0mporsche\u001b[0m \u001b[0;34m=\u001b[0m \u001b[0mCar\u001b[0m\u001b[0;34m(\u001b[0m\u001b[0;34m)\u001b[0m\u001b[0;34m\u001b[0m\u001b[0;34m\u001b[0m\u001b[0m\n",
      "\u001b[0;31mNameError\u001b[0m: name 'Car' is not defined"
     ]
    }
   ],
   "source": [
    "honda = Car()\n",
    "chevy = Car()\n",
    "porsche = Car()"
   ]
  },
  {
   "cell_type": "markdown",
   "metadata": {},
   "source": [
    "##### In-Class Exercise #1 - Create a Class 'Car' and Instantiate three different makes of cars"
   ]
  },
  {
   "cell_type": "code",
   "execution_count": 5,
   "metadata": {},
   "outputs": [
    {
     "name": "stdout",
     "output_type": "stream",
     "text": [
      "Black\n",
      "650\n",
      "510\n",
      "\n",
      "\n",
      "red\n",
      "4\n"
     ]
    }
   ],
   "source": [
    "class Truck():\n",
    "    color = \"Black\"\n",
    "    hp = 650\n",
    "    torque = 510\n",
    "    \n",
    "raptor = Truck()\n",
    "bronco = Truck()\n",
    "lightning = Truck()\n",
    "\n",
    "print(raptor.color)\n",
    "print(lightning.hp)\n",
    "print(bronco.torque)\n",
    "\n",
    "print('\\n')\n",
    "\n",
    "class Car():\n",
    "    doors = 4\n",
    "    color = \"red\"\n",
    "    wheels = 4\n",
    "    sunRoof = \"Yes\"\n",
    "    \n",
    "maz = Car()\n",
    "bently = Car()\n",
    "fer = Car()\n",
    "\n",
    "print(bently.color)\n",
    "print(bently.wheels)"
   ]
  },
  {
   "cell_type": "markdown",
   "metadata": {},
   "source": [
    "## The \\__init\\__() Method <br>\n",
    "<p>This method is used in almost every created class, and called only once upon the creation of the class instance. This method will initialize all variables needed for the object.</p>"
   ]
  },
  {
   "cell_type": "code",
   "execution_count": 7,
   "metadata": {},
   "outputs": [
    {
     "name": "stdout",
     "output_type": "stream",
     "text": [
      "8\n",
      "4.7L\n"
     ]
    },
    {
     "data": {
      "text/plain": [
       "{'wheels': 8, 'color': 'blue'}"
      ]
     },
     "execution_count": 7,
     "metadata": {},
     "output_type": "execute_result"
    }
   ],
   "source": [
    "class Car():\n",
    "    engine = '4.7L' # constant-attribute\n",
    "    \n",
    "    def __init__(self,wheels,color):\n",
    "        \n",
    "        self.wheels = wheels\n",
    "        self.color = color\n",
    "        \n",
    "chevy = Car(4,\"red\")\n",
    "ford = Car(8, \"blue\")\n",
    "\n",
    "print(ford.wheels)\n",
    "print(chevy.color)\n",
    "\n",
    "ford.__dict__"
   ]
  },
  {
   "cell_type": "markdown",
   "metadata": {},
   "source": [
    "##### The 'self' Attribute <br>\n",
    "<p>This attribute is required to keep track of specific instance's attributes. Without the self attribute, the program would not know how to reference or keep track of an instance's attributes.</p>"
   ]
  },
  {
   "cell_type": "code",
   "execution_count": null,
   "metadata": {},
   "outputs": [],
   "source": [
    "# see above"
   ]
  },
  {
   "cell_type": "markdown",
   "metadata": {},
   "source": [
    "## Class Attributes <br>\n",
    "<p>While variables are inside of a class, they are referred to as attributes and not variables. When someone says 'attribute' you know they're speaking about a class. Attributes can be initialized through the init method, or outside of it.</p>"
   ]
  },
  {
   "cell_type": "markdown",
   "metadata": {},
   "source": [
    "##### Initializing Attributes"
   ]
  },
  {
   "cell_type": "code",
   "execution_count": 11,
   "metadata": {},
   "outputs": [],
   "source": [
    "# see above\n",
    "\n",
    "class Toy():\n",
    "    kind = \"car\" #DOESN'T CHANGE FREQUENTLY\n",
    "    \n",
    "    #always need \"self\"\n",
    "    def __init__(self,color,cool_factor,decal):\n",
    "        #always call self first\n",
    "        self.color = color\n",
    "        self.cool_factor = cool_factor\n",
    "        self.decal = decal\n",
    "\n",
    "#instantiating         \n",
    "tanka_truck = Toy('yellow',6,'racing stripes')\n",
    "hotwheels_car= Toy('red',10, 'flames')"
   ]
  },
  {
   "cell_type": "markdown",
   "metadata": {},
   "source": [
    "##### Accessing Class Attributes"
   ]
  },
  {
   "cell_type": "code",
   "execution_count": 12,
   "metadata": {
    "scrolled": true
   },
   "outputs": [
    {
     "name": "stdout",
     "output_type": "stream",
     "text": [
      "racing stripes\n"
     ]
    }
   ],
   "source": [
    "# See Above\n",
    "print(tanka_truck.decal)"
   ]
  },
  {
   "cell_type": "markdown",
   "metadata": {},
   "source": [
    "##### Setting Defaults for Attributes"
   ]
  },
  {
   "cell_type": "code",
   "execution_count": 13,
   "metadata": {},
   "outputs": [
    {
     "name": "stdout",
     "output_type": "stream",
     "text": [
      "Blue\n"
     ]
    }
   ],
   "source": [
    "class Car():\n",
    "    engine = '4.7L'\n",
    "    \n",
    "    def __init__(self,wheels):\n",
    "        self.wheels = wheels\n",
    "        self.color = 'Blue' # Default Attribute\n",
    "        \n",
    "jeep = Car(8)\n",
    "honda = Car(4)\n",
    "print(honda.color)\n",
    "print(jeep.wheels)"
   ]
  },
  {
   "cell_type": "code",
   "execution_count": 14,
   "metadata": {},
   "outputs": [
    {
     "name": "stdout",
     "output_type": "stream",
     "text": [
      "Blue\n",
      "red\n"
     ]
    }
   ],
   "source": [
    "class Car():\n",
    "    engine = '4.7L'\n",
    "    \n",
    "    def __init__(self, wheels, color = \"Blue\"):\n",
    "        self.wheels = wheels\n",
    "        self.color = color\n",
    "        \n",
    "jeep = Car(8)\n",
    "toyota = Car(4,\"red\")\n",
    "\n",
    "print(jeep.color)\n",
    "print(toyota.color)"
   ]
  },
  {
   "cell_type": "markdown",
   "metadata": {},
   "source": [
    "##### Changing Class Attributes <br>\n",
    "<p>Keep in mind there are global class attributes and then there are attributes only available to each class instance which won't effect other classes.</p>"
   ]
  },
  {
   "cell_type": "code",
   "execution_count": 16,
   "metadata": {},
   "outputs": [
    {
     "name": "stdout",
     "output_type": "stream",
     "text": [
      "Before Change: White\n",
      "\n",
      " After Change: White\n",
      "8\n"
     ]
    }
   ],
   "source": [
    "# Changing the Default Attribute for this example\n",
    "\n",
    "print(f\"Before Change: {jeep.color}\")\n",
    "\n",
    "jeep.color = \"White\"\n",
    "\n",
    "print(f\"\\n After Change: {jeep.color}\")\n",
    "print(jeep.wheels)"
   ]
  },
  {
   "cell_type": "code",
   "execution_count": 17,
   "metadata": {},
   "outputs": [
    {
     "name": "stdout",
     "output_type": "stream",
     "text": [
      "4\n",
      "2\n"
     ]
    }
   ],
   "source": []
  },
  {
   "cell_type": "markdown",
   "metadata": {},
   "source": [
    "##### In-Class Exercise #2 - Add a doors and seats attribute to your 'Car' class then print out two different instances with different doors and seats"
   ]
  },
  {
   "cell_type": "code",
   "execution_count": 25,
   "metadata": {},
   "outputs": [
    {
     "name": "stdout",
     "output_type": "stream",
     "text": [
      "\n",
      " Before Change:5-seater\n",
      "\n",
      " Before Change:2\n",
      "\n",
      " After Change: 2\n",
      "\n",
      " After Change: 4-seater\n"
     ]
    }
   ],
   "source": [
    "class Car():\n",
    "    engine = '4.7L'\n",
    "    \n",
    "    def __init__(self, doors, seats):\n",
    "        self.doors = doors\n",
    "        self.seats = seats\n",
    "        \n",
    "corolla = Car(4,\"5-seater\")\n",
    "tacoma = Car(2,\"2-seater\")\n",
    "\n",
    "print(f\"\\n Before Change:{corolla.seats}\")\n",
    "print(f\"\\n Before Change:{tacoma.doors}\")\n",
    "\n",
    "corolla.doors = \"2\"\n",
    "print(f\"\\n After Change: {corolla.doors}\")\n",
    "\n",
    "tacoma.seats = \"4-seater\"\n",
    "print(f\"\\n After Change: {tacoma.seats}\")\n",
    "\n",
    "\n"
   ]
  },
  {
   "cell_type": "markdown",
   "metadata": {},
   "source": [
    "## Class Methods <br>\n",
    "<p>While inside of a class, functions are referred to as 'methods'. If you hear someone mention methods, they're speaking about classes. Methods are essentially functions, but only callable on the instances of a class.</p>"
   ]
  },
  {
   "cell_type": "markdown",
   "metadata": {},
   "source": [
    "##### Creating"
   ]
  },
  {
   "cell_type": "code",
   "execution_count": 32,
   "metadata": {},
   "outputs": [],
   "source": [
    "class ShoppingBag():\n",
    "    \"\"\"\n",
    "        The ShoppingBag Class will have handles, capacity and items\n",
    "        to place inside.\n",
    "        \n",
    "        Attributes for the class:\n",
    "        - handles: expected to be an integer\n",
    "        - capacity: expected to be a string or an integer\n",
    "        - items: expected to be a list\n",
    "    \"\"\"\n",
    "    \n",
    "    def __init__(self, handles, capacity, items):\n",
    "        self.handles = handles\n",
    "        self.capacity = capacity\n",
    "        self.items = items\n",
    "        \n",
    "        # Method that shows the ShoppingBag items\n",
    "        \n",
    "    def showShoppingBag(self):\n",
    "        print(\"You have items in your bag!!!\")\n",
    "        for item in self.items:\n",
    "            print(item)\n",
    "            \n",
    "    # Show Capacity of ShoppingBag \n",
    "    def showCapacity(self):\n",
    "        print(f\"Your capacity is: {self.capacity}\")\n",
    "        \n",
    "    # Add Item(s) to the items list for the ShoppingBag\n",
    "    def addToShoppingBag(self):\n",
    "        products = input('What would you like to add?')\n",
    "        self.items.append(products)\n",
    "        \n",
    "    # Change the capacity of the Shopping Bag (dynamically)\n",
    "    def changeBagCapacity(self, capacity):\n",
    "        self.capacity = capacity\n",
    "        \n",
    "    # Increase Capacity of the shopping bag by a default of 10\n",
    "    def increaseCapacity(self, changed_capacity = 10):\n",
    "        if self.capacity == isinstance(self.capacity, str):\n",
    "            print(\"We can't do that here boss...\")\n",
    "        else:\n",
    "            self.capacity += changed_capacity\n",
    "            #self.capacity = self.capacity + changed_capacity"
   ]
  },
  {
   "cell_type": "code",
   "execution_count": 27,
   "metadata": {},
   "outputs": [],
   "source": [
    "isinstance?\n",
    "\n",
    "# Signature: isinstance(obj, class_or_tuple, /)\n",
    "# Docstring:\n",
    "# Return whether an object is an instance of a class or of a subclass thereof.\n",
    "\n",
    "# A tuple, as in ``isinstance(x, (A, B, ...))``, may be given as the target to\n",
    "# check against. This is equivalent to ``isinstance(x, A) or isinstance(x, B)\n",
    "# or ...`` etc.\n",
    "# Type:      builtin_function_or_method"
   ]
  },
  {
   "cell_type": "markdown",
   "metadata": {},
   "source": [
    "##### Calling"
   ]
  },
  {
   "cell_type": "code",
   "execution_count": 47,
   "metadata": {},
   "outputs": [
    {
     "name": "stdout",
     "output_type": "stream",
     "text": [
      "What do you want to do? add/show or quit almond milk\n",
      "What do you want to do? add/show or quit add\n",
      "What would you like to add?almond milk\n",
      "What do you want to do? add/show or quit chia seeds\n",
      "What do you want to do? add/show or quit b-12 vitamin\n",
      "What do you want to do? add/show or quit plan b\n",
      "What do you want to do? add/show or quit show\n",
      "You have items in your bag!!!\n",
      "almond milk\n",
      "What do you want to do? add/show or quit add\n",
      "What would you like to add?chia seeds\n",
      "What do you want to do? add/show or quit add\n",
      "What would you like to add?b12 vitamin\n",
      "What do you want to do? add/show or quit add\n",
      "What would you like to add?plan b\n",
      "What do you want to do? add/show or quit show\n",
      "You have items in your bag!!!\n",
      "almond milk\n",
      "chia seeds\n",
      "b12 vitamin\n",
      "plan b\n",
      "What do you want to do? add/show or quit quit\n",
      "You have items in your bag!!!\n",
      "almond milk\n",
      "chia seeds\n",
      "b12 vitamin\n",
      "plan b\n",
      "Thanks for shopping!\n"
     ]
    }
   ],
   "source": [
    "# See Above\n",
    "# Create an instance of the ShoppingBag Class\n",
    "\n",
    "aldi_bag = ShoppingBag(2,10,[])\n",
    "\n",
    "# Create a Function to run the shoppingBag(aldi_bag)\n",
    "\n",
    "def run():\n",
    "    while True:\n",
    "        response = input('What do you want to do? add/show or quit ')\n",
    "        \n",
    "        if response.lower() == \"quit\":\n",
    "            aldi_bag.showShoppingBag()\n",
    "            print(\"Thanks for shopping!\")\n",
    "            break\n",
    "        elif response.lower() == \"add\":\n",
    "            aldi_bag.addToShoppingBag()\n",
    "            \n",
    "        elif response.lower() == \"show\":\n",
    "            aldi_bag.showShoppingBag()\n",
    "            \n",
    "run()"
   ]
  },
  {
   "cell_type": "markdown",
   "metadata": {},
   "source": [
    "##### Modifying an Attribute's Value Through a Method"
   ]
  },
  {
   "cell_type": "code",
   "execution_count": 34,
   "metadata": {},
   "outputs": [
    {
     "name": "stdout",
     "output_type": "stream",
     "text": [
      "Your capacity is: 10\n",
      "Capacity AFTER the change...\n",
      "Your capacity is: 50\n"
     ]
    }
   ],
   "source": [
    "# Show Capacity\n",
    "aldi_bag.showCapacity()\n",
    "print(\"Capacity AFTER the change...\")\n",
    "aldi_bag.changeBagCapacity(50)\n",
    "aldi_bag.showCapacity()"
   ]
  },
  {
   "cell_type": "markdown",
   "metadata": {},
   "source": [
    "##### Incrementing an Attribute's Value Through a Method"
   ]
  },
  {
   "cell_type": "code",
   "execution_count": 35,
   "metadata": {},
   "outputs": [
    {
     "name": "stdout",
     "output_type": "stream",
     "text": [
      "Your capacity is: 50\n",
      "After Increase\n",
      "Your capacity is: 60\n"
     ]
    }
   ],
   "source": [
    "aldi_bag.showCapacity()\n",
    "print(\"After Increase\")\n",
    "aldi_bag.increaseCapacity()\n",
    "aldi_bag.showCapacity()"
   ]
  },
  {
   "cell_type": "markdown",
   "metadata": {},
   "source": [
    "##### In-Class Exercise #3 - Add a method that takes in three parameters of year, doors and seats and prints out a formatted print statement with make, model, year, seats, and doors"
   ]
  },
  {
   "cell_type": "code",
   "execution_count": 37,
   "metadata": {},
   "outputs": [
    {
     "name": "stdout",
     "output_type": "stream",
     "text": [
      "This car is from 2015 and is a Toyota Corolla and has 4 doors and 5 seats.\n"
     ]
    }
   ],
   "source": [
    "# Create class with 2 paramters inside of the __init__ which are make and model\n",
    "        \n",
    "# Inside of the Car class create a method that has 4 parameter in total (self,year,door,seats)\n",
    "\n",
    "# Output: This car is from 2019 and is a Ford Expolorer and has 4 doors and 5 seats\n",
    "\n",
    "\n",
    "\n",
    "class Car():\n",
    "\n",
    "\n",
    "    def __init__(self, make, model):\n",
    "        self.make = make\n",
    "        self.model = model\n",
    "        \n",
    "    def carInfo(self,year,door,seats):\n",
    "        print(f\"This car is from {year} and is a {self.make} {self.model} and has {door} doors and {seats} seats.\")\n",
    "        \n",
    "ford_car = Car(\"Toyota\", \"Corolla\")\n",
    "ford_car.carInfo(2015, 4, 5)"
   ]
  },
  {
   "cell_type": "markdown",
   "metadata": {},
   "source": [
    "## Inheritance <br>\n",
    "<p>You can create a child-parent relationship between two classes by using inheritance. What this allows you to do is have overriding methods, but also inherit traits from the parent class. Think of it as an actual parent and child, the child will inherit the parent's genes, as will the classes in OOP</p>\n",
    "\n",
    "    \n",
    "    \n",
    "    \n",
    "<p>think of inheritance with Pokémon:\n",
    "Charmander is a fire type with Ember Scratch, Growl, and Smokescreen.\n",
    "\n",
    "He evolves into Charmeleon who has the same moveset and type but then learns slash\n",
    "\n",
    "Charizard has the same moveset, and type but then becomes fire/flying and knows flamethrower</p>\n"
   ]
  },
  {
   "cell_type": "markdown",
   "metadata": {},
   "source": [
    "##### Syntax for Inheriting from a Parent Class"
   ]
  },
  {
   "cell_type": "code",
   "execution_count": 54,
   "metadata": {},
   "outputs": [
    {
     "name": "stdout",
     "output_type": "stream",
     "text": [
      "The Dog has 15mph in speed and 9.8\n",
      "None\n",
      "Bark\n",
      "Make Some Generic Sound\n",
      "None\n",
      "9.8\n"
     ]
    }
   ],
   "source": [
    "# Creation of our Parent Class -- Animal\n",
    "#you don't run a class\n",
    "\n",
    "class Animal():\n",
    "    ACCELERATION = 9.8\n",
    "    \n",
    "    def __init__(self, name, species, legs = 4):\n",
    "        self.name = name\n",
    "        self.species = species\n",
    "        self.legs = legs\n",
    "    \n",
    "    #Generic Parent(animal) Method -- NO OVERRIDE YET\n",
    "    def makeSound(self):\n",
    "        print(\"Make Some Generic Sound\")\n",
    "        \n",
    "#Creation of our child class -- Dog\n",
    "\n",
    "class Dog(Animal):\n",
    "    SPEED = 15\n",
    "    \n",
    "    def printInfo(self):\n",
    "        print(f\"The Dog has {self.SPEED}mph in speed and {self.ACCELERATION}\" )\n",
    "        \n",
    "#Creation of our Grand-Child Class -- Mutt\n",
    "class Mutt(Dog):\n",
    "    COLOR = 'black & brown'\n",
    "    \n",
    "    #Overriding of the ANIMAL Class __init__ method (by way of using the Dog Class)\n",
    "    def __init__(self, name, species, eye_color, legs = 4):\n",
    "        Dog.__init__(self,name,species,legs)\n",
    "        self.eye_color = eye_color\n",
    "    \n",
    "    #Override the makeSound method (coming from the ANIMAL class)\n",
    "    def makeSound(self):\n",
    "        noise = \"Bark\"\n",
    "        return noise\n",
    "    \n",
    "        \n",
    "lassie = Dog(\"Lassie\", \"Dog\")\n",
    "print(lassie.printInfo())\n",
    "basic_animal = Animal('Generic Animal Name', 'Generic Animal Species')\n",
    "buster = Mutt('Buster', 'mutt', 'green')\n",
    "\n",
    "print(buster.makeSound())\n",
    "print(basic_animal.makeSound())\n",
    "print(buster.ACCELERATION)"
   ]
  },
  {
   "cell_type": "markdown",
   "metadata": {},
   "source": [
    "##### The \\__init\\__() Method for a Child Class - super()"
   ]
  },
  {
   "cell_type": "code",
   "execution_count": 45,
   "metadata": {
    "scrolled": true
   },
   "outputs": [
    {
     "name": "stdout",
     "output_type": "stream",
     "text": [
      "Help on class Mutt in module __main__:\n",
      "\n",
      "class Mutt(Dog)\n",
      " |  Mutt(name, species, legs=4)\n",
      " |  \n",
      " |  Method resolution order:\n",
      " |      Mutt\n",
      " |      Dog\n",
      " |      Animal\n",
      " |      builtins.object\n",
      " |  \n",
      " |  Methods defined here:\n",
      " |  \n",
      " |  makeSound(self)\n",
      " |      #Override the makeSound method (coming from the ANIMAL class)\n",
      " |  \n",
      " |  ----------------------------------------------------------------------\n",
      " |  Data and other attributes defined here:\n",
      " |  \n",
      " |  COLOR = 'black & brown'\n",
      " |  \n",
      " |  ----------------------------------------------------------------------\n",
      " |  Methods inherited from Dog:\n",
      " |  \n",
      " |  printInfo(self)\n",
      " |  \n",
      " |  ----------------------------------------------------------------------\n",
      " |  Data and other attributes inherited from Dog:\n",
      " |  \n",
      " |  SPEED = 15\n",
      " |  \n",
      " |  ----------------------------------------------------------------------\n",
      " |  Methods inherited from Animal:\n",
      " |  \n",
      " |  __init__(self, name, species, legs=4)\n",
      " |      Initialize self.  See help(type(self)) for accurate signature.\n",
      " |  \n",
      " |  ----------------------------------------------------------------------\n",
      " |  Data descriptors inherited from Animal:\n",
      " |  \n",
      " |  __dict__\n",
      " |      dictionary for instance variables (if defined)\n",
      " |  \n",
      " |  __weakref__\n",
      " |      list of weak references to the object (if defined)\n",
      " |  \n",
      " |  ----------------------------------------------------------------------\n",
      " |  Data and other attributes inherited from Animal:\n",
      " |  \n",
      " |  ACCELERATION = 9.8\n",
      "\n"
     ]
    }
   ],
   "source": [
    "class Mutt(Dog):\n",
    "    COLOR = 'black & brown'\n",
    "    \n",
    "    #Overriding of the ANIMAL Class __init__ method (by way of the Dog class)\n",
    "    def __init__(self, name, species, eye_color, legs = 4):\n",
    "        super().__init__(name, species, legs)\n",
    "        self.eye_color = eye_color\n",
    "    \n",
    "    #Override the makeSOund method (coming from the ANIMAL class)\n",
    "    def makeSound(self):\n",
    "        noise = \"Bark\"\n",
    "        return noise\n",
    "    \n",
    "\n",
    "    help(Mutt)\n",
    "    "
   ]
  },
  {
   "cell_type": "markdown",
   "metadata": {},
   "source": [
    "##### Defining Attributes and Methods for the Child Class"
   ]
  },
  {
   "cell_type": "code",
   "execution_count": null,
   "metadata": {},
   "outputs": [],
   "source": [
    "# See Above"
   ]
  },
  {
   "cell_type": "markdown",
   "metadata": {},
   "source": [
    "##### Method Overriding"
   ]
  },
  {
   "cell_type": "code",
   "execution_count": null,
   "metadata": {},
   "outputs": [],
   "source": [
    "# See Above"
   ]
  },
  {
   "cell_type": "markdown",
   "metadata": {},
   "source": [
    "## Classes as Attributes <br>\n",
    "<p>Classes can also be used as attributes within another class. This is useful in situations where you need to keep variables locally stored, instead of globally stored.</p>"
   ]
  },
  {
   "cell_type": "code",
   "execution_count": 46,
   "metadata": {},
   "outputs": [
    {
     "name": "stdout",
     "output_type": "stream",
     "text": [
      "20\n",
      "2020 Tesla Model X 20\n"
     ]
    }
   ],
   "source": [
    "class Battery():\n",
    "    volts = 7.8\n",
    "    \n",
    "    def __init__(self,cells):\n",
    "        self.cells = cells\n",
    "class Car():\n",
    "    def __init__(self,year,make,model,battery):\n",
    "        self.year = year\n",
    "        self.make = make\n",
    "        self.model = model\n",
    "        self.battery = battery\n",
    "        \n",
    "    def printInfo(self):\n",
    "        return f'{self.year} {self.make} {self.model} {self.battery.cells}'\n",
    "battery = Battery(20)\n",
    "\n",
    "tesla = Car(2020, 'Tesla', 'Model X', battery)\n",
    "\n",
    "print(tesla.battery.cells)\n",
    "print(tesla.printInfo())"
   ]
  },
  {
   "cell_type": "markdown",
   "metadata": {},
   "source": [
    "# Exercises"
   ]
  },
  {
   "cell_type": "markdown",
   "metadata": {},
   "source": [
    "### Exercise 1 - Turn the shopping cart program from yesterday into an object-oriented program\n",
    "\n",
    "The comments in the cell below are there as a guide for thinking about the problem. However, if you feel a different way is best for you and your own thought process, please do what feels best for you by all means."
   ]
  },
  {
   "cell_type": "code",
   "execution_count": 60,
   "metadata": {},
   "outputs": [
    {
     "name": "stdout",
     "output_type": "stream",
     "text": [
      "What do you want to do? Add/Remove/Show or quit quit\n",
      "Here's what you have!\n",
      "Hope to see you soon!\n"
     ]
    }
   ],
   "source": [
    "# Create a class called cart that retains items and has methods to add, remove, and show\n",
    "\n",
    "class Cart():\n",
    "    \n",
    "    def __init__(self, items, capacity):\n",
    "        self.items = items\n",
    "        self.capacity = capacity\n",
    "        \n",
    "    \n",
    "    def addtoCart(self):\n",
    "        thing = input('What would you like to add?')\n",
    "        self.items.append(thing)\n",
    "    \n",
    "    def removefromCart(self):\n",
    "        remove_thing = input('What would you like to remove?')\n",
    "        self.items.remove(remove_thing)\n",
    "        \n",
    "    def showCart(self):\n",
    "        print(\"Here's what you have!\")\n",
    "        for item in self.items:\n",
    "            print(item)\n",
    "\n",
    "amazon_cart = Cart([],10)            \n",
    "            \n",
    "def run():\n",
    "    while True:\n",
    "        response = input('What do you want to do? Add/Remove/Show or quit ')\n",
    "        \n",
    "        if response.lower() == \"quit\":\n",
    "            amazon_cart.showCart()\n",
    "            print(\"Hope to see you soon!\")\n",
    "            break\n",
    "        elif response.lower() == \"add\":\n",
    "            amazon_cart.addtoCart()\n",
    "            \n",
    "        elif response.lower() == \"remove\":\n",
    "            amazon_cart.removefromCart()\n",
    "            \n",
    "        elif response.lower() == \"show\":\n",
    "            amazon_cart.showCart()\n",
    "            \n",
    "run()   \n",
    "            "
   ]
  },
  {
   "cell_type": "markdown",
   "metadata": {},
   "source": [
    "### Exercise 2 - Write a Python class which has two methods get_String and print_String. get_String accept a string from the user and print_String print the string in upper case"
   ]
  },
  {
   "cell_type": "code",
   "execution_count": null,
   "metadata": {},
   "outputs": [],
   "source": [
    "class PythonCommands():    \n",
    "    \n",
    "    def get_String(self, a_string):\n",
    "        user_string = input()\n",
    "        \n",
    "    def print_String(self):\n",
    "        return user_string.upper()\n",
    "    \n",
    "def runPython():\n",
    "    while True:\n",
    "        response = input('Type in anything and I will yell it back at you: ')\n",
    "        \n",
    "        "
   ]
  },
  {
   "cell_type": "code",
   "execution_count": 85,
   "metadata": {},
   "outputs": [],
   "source": [
    "class TestClass:\n",
    "    def __init__(self):\n",
    "        self.string = input(\"What do you wanna say?\")\n",
    "    \n",
    "    def get_string(self):\n",
    "        return self.string\n",
    "    \n",
    "    def print_string(self):\n",
    "        print(self.get_string().upper())"
   ]
  },
  {
   "cell_type": "code",
   "execution_count": 86,
   "metadata": {},
   "outputs": [
    {
     "name": "stdout",
     "output_type": "stream",
     "text": [
      "What do you wanna say?hello, from Dallas\n"
     ]
    }
   ],
   "source": [
    "t = TestClass()"
   ]
  },
  {
   "cell_type": "code",
   "execution_count": 87,
   "metadata": {},
   "outputs": [
    {
     "data": {
      "text/plain": [
       "'hello, from Dallas'"
      ]
     },
     "execution_count": 87,
     "metadata": {},
     "output_type": "execute_result"
    }
   ],
   "source": [
    "t.get_string()"
   ]
  },
  {
   "cell_type": "code",
   "execution_count": 88,
   "metadata": {},
   "outputs": [
    {
     "name": "stdout",
     "output_type": "stream",
     "text": [
      "HELLO, FROM DALLAS\n"
     ]
    }
   ],
   "source": [
    "t.print_string()"
   ]
  },
  {
   "cell_type": "code",
   "execution_count": null,
   "metadata": {},
   "outputs": [],
   "source": []
  }
 ],
 "metadata": {
  "kernelspec": {
   "display_name": "Python 3",
   "language": "python",
   "name": "python3"
  },
  "language_info": {
   "codemirror_mode": {
    "name": "ipython",
    "version": 3
   },
   "file_extension": ".py",
   "mimetype": "text/x-python",
   "name": "python",
   "nbconvert_exporter": "python",
   "pygments_lexer": "ipython3",
   "version": "3.8.5"
  }
 },
 "nbformat": 4,
 "nbformat_minor": 2
}
